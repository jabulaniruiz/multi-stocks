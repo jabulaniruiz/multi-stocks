{
  "nbformat": 4,
  "nbformat_minor": 0,
  "metadata": {
    "colab": {
      "name": "Untitled0.ipynb",
      "provenance": [],
      "authorship_tag": "ABX9TyMWXpEPj2RT9ja2RpIf44Rd",
      "include_colab_link": true
    },
    "kernelspec": {
      "name": "python3",
      "display_name": "Python 3"
    },
    "language_info": {
      "name": "python"
    }
  },
  "cells": [
    {
      "cell_type": "markdown",
      "metadata": {
        "id": "view-in-github",
        "colab_type": "text"
      },
      "source": [
        "<a href=\"https://colab.research.google.com/github/jabulaniruiz/multi-stocks/blob/main/Multi-stocks.ipynb\" target=\"_parent\"><img src=\"https://colab.research.google.com/assets/colab-badge.svg\" alt=\"Open In Colab\"/></a>"
      ]
    },
    {
      "cell_type": "code",
      "metadata": {
        "colab": {
          "base_uri": "https://localhost:8080/"
        },
        "id": "cLzx2JSwBozW",
        "outputId": "9b4220af-d53e-4563-fc3b-6f0d6fa2a4b1"
      },
      "source": [
        "#!pip install yahoo_fin\n",
        "#!pip install kivy\n",
        "import yahoo_fin.stock_info as si\n",
        "import pandas as pd\n",
        "#from ta import add_all_ta_features\n",
        "#from ta.trend import macd\n",
        "#import btalib\n",
        "\n",
        "import kivy\n",
        "from kivy.app import App\n",
        "from kivy.uix.label import Label\n",
        "from kivy.uix.gridlayout import GridLayout\n",
        "from kivy.uix.textinput import TextInput\n",
        "\n",
        "class Stocks:\n",
        "    def __init__(self, ticker):\n",
        "        self.ticker = ticker\n",
        "        self.earnings = []\n",
        "        self.prices = []\n",
        "\n",
        "    def add_earning(self):\n",
        "            earning = si.get_next_earnings_date(self.ticker)\n",
        "            self.earnings.append(earning)\n",
        "\n",
        "    def get_earning(self):\n",
        "            return self.earnings   \n",
        "            \n",
        "    def add_price(self):\n",
        "            price = si.get_data(self.ticker)\n",
        "            self.prices.append(price)\n",
        "            \n",
        "    def get_price(self):\n",
        "            return self.prices         \n",
        "            \n",
        "s1 = Stocks('MSFT')\n",
        "Stocks.add_earning(s1)\n",
        "Stocks.add_price(s1)\n",
        "test = Stocks.get_price(s1)\n",
        "s2 = Stocks('PFE')\n",
        "Stocks.add_earning(s2)\n",
        "Stocks.add_price(s2)\n",
        "s3 = Stocks('KO')    \n",
        "Stocks.add_earning(s3)\n",
        "Stocks.add_price(s3)      "
      ],
      "execution_count": null,
      "outputs": [
        {
          "output_type": "stream",
          "text": [
            "[INFO   ] [Logger      ] Record log in /root/.kivy/logs/kivy_21-03-22_4.txt\n",
            "[INFO   ] [Kivy        ] v2.0.0\n",
            "[INFO   ] [Kivy        ] Installed at \"/usr/local/lib/python3.7/dist-packages/kivy/__init__.py\"\n",
            "[INFO   ] [Python      ] v3.7.10 (default, Feb 20 2021, 21:17:23) \n",
            "[GCC 7.5.0]\n",
            "[INFO   ] [Python      ] Interpreter at \"/usr/bin/python3\"\n",
            "[INFO   ] [Factory     ] 186 symbols loaded\n",
            "[INFO   ] [Image       ] Providers: img_tex, img_dds, img_sdl2, img_pil (img_ffpyplayer ignored)\n",
            "[INFO   ] [Text        ] Provider: sdl2\n",
            "[INFO   ] [Window      ] Provider: sdl2\n"
          ],
          "name": "stderr"
        }
      ]
    }
  ]
}