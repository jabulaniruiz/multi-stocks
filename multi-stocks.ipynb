{
  "nbformat": 4,
  "nbformat_minor": 0,
  "metadata": {
    "colab": {
      "name": "Untitled0.ipynb",
      "provenance": [],
      "authorship_tag": "ABX9TyN2TtA3WXTae7kliey/zCoB",
      "include_colab_link": true
    },
    "kernelspec": {
      "name": "python3",
      "display_name": "Python 3"
    },
    "language_info": {
      "name": "python"
    }
  },
  "cells": [
    {
      "cell_type": "markdown",
      "metadata": {
        "id": "view-in-github",
        "colab_type": "text"
      },
      "source": [
        "<a href=\"https://colab.research.google.com/github/jabulaniruiz/multi-stocks/blob/main/multi-stocks.ipynb\" target=\"_parent\"><img src=\"https://colab.research.google.com/assets/colab-badge.svg\" alt=\"Open In Colab\"/></a>"
      ]
    },
    {
      "cell_type": "code",
      "metadata": {
        "colab": {
          "base_uri": "https://localhost:8080/"
        },
        "id": "cLzx2JSwBozW",
        "outputId": "e067c654-904a-4198-8430-80e1ada7321d"
      },
      "source": [
        "#!pip install yahoo_fin\n",
        "#!pip install kivy\n",
        "import yahoo_fin.stock_info as si\n",
        "import pandas as pd\n",
        "#from ta import add_all_ta_features\n",
        "#from ta.trend import macd\n",
        "#import btalib\n",
        "\n",
        "#import kivy\n",
        "#from kivy.app import App\n",
        "#from kivy.uix.label import Label\n",
        "#from kivy.uix.gridlayout import GridLayout\n",
        "#from kivy.uix.textinput import TextInput\n",
        "\n",
        "class Stocks:\n",
        "    def __init__(self, ticker):\n",
        "        self.ticker = ticker\n",
        "        self.earnings = []\n",
        "        self.prices = []\n",
        "\n",
        "    def add_earning(self):\n",
        "            earning = si.get_next_earnings_date(self.ticker)\n",
        "            self.earnings.append(earning)\n",
        "\n",
        "    def get_earning(self):\n",
        "            return self.earnings   \n",
        "            \n",
        "    def add_price(self):\n",
        "            price = si.get_data(self.ticker)\n",
        "            self.prices.append(price)\n",
        "            \n",
        "    def get_price(self):\n",
        "            return self.prices         \n",
        "            \n",
        "s1 = Stocks('MSFT')\n",
        "Stocks.add_earning(s1)\n",
        "Stocks.add_price(s1)\n",
        "test = Stocks.get_price(s1)\n",
        "s2 = Stocks('PFE')\n",
        "Stocks.add_earning(s2)\n",
        "Stocks.add_price(s2)\n",
        "s3 = Stocks('KO')    \n",
        "Stocks.add_earning(s3)\n",
        "Stocks.add_price(s3)  \n",
        "\n",
        "    "
      ],
      "execution_count": 2,
      "outputs": [
        {
          "output_type": "stream",
          "text": [
            "[                  open        high         low  ...    adjclose      volume  ticker\n",
            "1986-03-13    0.088542    0.101563    0.088542  ...    0.061751  1031788800    MSFT\n",
            "1986-03-14    0.097222    0.102431    0.097222  ...    0.063956   308160000    MSFT\n",
            "1986-03-17    0.100694    0.103299    0.100694  ...    0.065059   133171200    MSFT\n",
            "1986-03-18    0.102431    0.103299    0.098958  ...    0.063405    67766400    MSFT\n",
            "1986-03-19    0.099826    0.100694    0.097222  ...    0.062302    47894400    MSFT\n",
            "...                ...         ...         ...  ...         ...         ...     ...\n",
            "2021-03-15  234.960007  235.190002  231.809998  ...  234.809998    26034900    MSFT\n",
            "2021-03-16  236.279999  240.059998  235.940002  ...  237.710007    27717700    MSFT\n",
            "2021-03-17  236.149994  238.550003  233.229996  ...  237.039993    29500700    MSFT\n",
            "2021-03-18  232.559998  234.190002  230.330002  ...  230.720001    34833000    MSFT\n",
            "2021-03-19  231.020004  232.470001  229.350006  ...  230.350006    46410700    MSFT\n",
            "\n",
            "[8827 rows x 7 columns]]\n"
          ],
          "name": "stdout"
        }
      ]
    },
    {
      "cell_type": "code",
      "metadata": {
        "id": "aqzfOcucJhHS"
      },
      "source": [
        ""
      ],
      "execution_count": null,
      "outputs": []
    }
  ]
}